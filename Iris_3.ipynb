{
 "cells": [
  {
   "cell_type": "code",
   "execution_count": 1,
   "metadata": {
    "id": "7XGGmxhm3V_o"
   },
   "outputs": [],
   "source": [
    "import numpy as np\n",
    "import pandas as pd\n",
    "import matplotlib.pyplot as plt\n",
    "from sklearn import datasets\n",
    "from sklearn.naive_bayes import GaussianNB"
   ]
  },
  {
   "cell_type": "markdown",
   "metadata": {},
   "source": [
    "# Задание 4"
   ]
  },
  {
   "cell_type": "markdown",
   "metadata": {},
   "source": [
    " На двух переменных из п2 вычислить квадратичную разделяющую функцию непосредственно по оценкам ковариационных матриц и средних (самостоятельно реализовать метод, не используя готовый). Визуализировать её и сравнить с решением из п2."
   ]
  },
  {
   "cell_type": "code",
   "execution_count": 2,
   "metadata": {},
   "outputs": [],
   "source": [
    "def make_meshgrid(x, y, d, h=.02):\n",
    "\n",
    "    x_min, x_max = x.min() - d, x.max() + d\n",
    "    y_min, y_max = y.min() - d, y.max() + d\n",
    "    xx, yy = np.meshgrid(np.arange(x_min, x_max, h),\n",
    "                         np.arange(y_min, y_max, h))\n",
    "    return xx, yy\n",
    "\n",
    "def plot_contours(ax, clf, xx, yy, **params):\n",
    "    Z = clf.predict(np.c_[xx.ravel(), yy.ravel()])\n",
    "    Z = Z.reshape(xx.shape)\n",
    "    out = ax.contourf(xx, yy, Z, **params)\n",
    "    return out, Z\n"
   ]
  },
  {
   "cell_type": "code",
   "execution_count": 3,
   "metadata": {},
   "outputs": [
    {
     "data": {
      "text/html": [
       "<div>\n",
       "<style scoped>\n",
       "    .dataframe tbody tr th:only-of-type {\n",
       "        vertical-align: middle;\n",
       "    }\n",
       "\n",
       "    .dataframe tbody tr th {\n",
       "        vertical-align: top;\n",
       "    }\n",
       "\n",
       "    .dataframe thead th {\n",
       "        text-align: right;\n",
       "    }\n",
       "</style>\n",
       "<table border=\"1\" class=\"dataframe\">\n",
       "  <thead>\n",
       "    <tr style=\"text-align: right;\">\n",
       "      <th></th>\n",
       "      <th>sepal length (cm)</th>\n",
       "      <th>sepal width (cm)</th>\n",
       "      <th>petal length (cm)</th>\n",
       "      <th>petal width (cm)</th>\n",
       "      <th>target</th>\n",
       "      <th>name</th>\n",
       "    </tr>\n",
       "  </thead>\n",
       "  <tbody>\n",
       "    <tr>\n",
       "      <th>50</th>\n",
       "      <td>7.0</td>\n",
       "      <td>3.2</td>\n",
       "      <td>4.7</td>\n",
       "      <td>1.4</td>\n",
       "      <td>1</td>\n",
       "      <td>versicolor</td>\n",
       "    </tr>\n",
       "    <tr>\n",
       "      <th>51</th>\n",
       "      <td>6.4</td>\n",
       "      <td>3.2</td>\n",
       "      <td>4.5</td>\n",
       "      <td>1.5</td>\n",
       "      <td>1</td>\n",
       "      <td>versicolor</td>\n",
       "    </tr>\n",
       "    <tr>\n",
       "      <th>52</th>\n",
       "      <td>6.9</td>\n",
       "      <td>3.1</td>\n",
       "      <td>4.9</td>\n",
       "      <td>1.5</td>\n",
       "      <td>1</td>\n",
       "      <td>versicolor</td>\n",
       "    </tr>\n",
       "    <tr>\n",
       "      <th>53</th>\n",
       "      <td>5.5</td>\n",
       "      <td>2.3</td>\n",
       "      <td>4.0</td>\n",
       "      <td>1.3</td>\n",
       "      <td>1</td>\n",
       "      <td>versicolor</td>\n",
       "    </tr>\n",
       "    <tr>\n",
       "      <th>54</th>\n",
       "      <td>6.5</td>\n",
       "      <td>2.8</td>\n",
       "      <td>4.6</td>\n",
       "      <td>1.5</td>\n",
       "      <td>1</td>\n",
       "      <td>versicolor</td>\n",
       "    </tr>\n",
       "  </tbody>\n",
       "</table>\n",
       "</div>"
      ],
      "text/plain": [
       "    sepal length (cm)  sepal width (cm)  petal length (cm)  petal width (cm)  \\\n",
       "50                7.0               3.2                4.7               1.4   \n",
       "51                6.4               3.2                4.5               1.5   \n",
       "52                6.9               3.1                4.9               1.5   \n",
       "53                5.5               2.3                4.0               1.3   \n",
       "54                6.5               2.8                4.6               1.5   \n",
       "\n",
       "    target        name  \n",
       "50       1  versicolor  \n",
       "51       1  versicolor  \n",
       "52       1  versicolor  \n",
       "53       1  versicolor  \n",
       "54       1  versicolor  "
      ]
     },
     "execution_count": 3,
     "metadata": {},
     "output_type": "execute_result"
    }
   ],
   "source": [
    "iris = datasets.load_iris()\n",
    "\n",
    "# iris_frame = pd.DataFrame(iris.data,columns = iris.feature_names)\n",
    "# iris_frame['target'] = iris['target']\n",
    "\n",
    "# iris_frame['name'] = iris_frame['target'].map(lambda x : iris['target_names'][x])\n",
    "\n",
    "\n",
    "iris_frame = pd.DataFrame(iris.data,columns = iris.feature_names)\n",
    "iris_frame['target'] = iris['target']\n",
    "iris_frame = iris_frame[iris_frame['target']>0]\n",
    "# Для наглядности добавляем столбец с сортами:\n",
    "iris_frame['name'] = iris_frame['target'].map(lambda x : iris['target_names'][x])\n",
    "iris_frame.head()\n"
   ]
  },
  {
   "cell_type": "code",
   "execution_count": 4,
   "metadata": {},
   "outputs": [],
   "source": [
    "import numpy\n",
    "\n",
    "class QDA:\n",
    "    def fit(self, X, t):\n",
    "        self.priors = dict()\n",
    "        self.means = dict()\n",
    "        self.covs = dict()\n",
    "\n",
    "        self.classes = np.unique(t)\n",
    "\n",
    "        for c in self.classes:\n",
    "            X_c = X[t == c]\n",
    "            self.priors[c] = X_c.shape[0] / X.shape[0]\n",
    "            self.means[c] = np.mean(X_c, axis=0)\n",
    "            self.covs[c] = np.cov(X_c.astype(float), rowvar=False)\n",
    "\n",
    "    def predict(self, X):\n",
    "        preds = list()\n",
    "        for x in X:\n",
    "            posts = list()\n",
    "            for c in self.classes:\n",
    "                prior = np.log(self.priors[c])\n",
    "                inv_cov = np.linalg.inv(self.covs[c])\n",
    "                inv_cov_det = np.linalg.det(inv_cov)\n",
    "                diff = x-self.means[c]\n",
    "                matr = diff.T.dot(inv_cov)\n",
    "                matr = matr.dot(diff)\n",
    "                likelihood = 0.5*np.log(inv_cov_det) - 0.5*matr\n",
    "                post = prior + likelihood\n",
    "                posts.append(post)\n",
    "            pred = self.classes[np.argmax(posts)]\n",
    "            preds.append(pred)\n",
    "        return np.array(preds)"
   ]
  },
  {
   "cell_type": "code",
   "execution_count": 12,
   "metadata": {},
   "outputs": [],
   "source": [
    "data = iris_frame.to_numpy()\n",
    "\n",
    "X = data[:, 2:4]\n",
    "t = data[:, 4]\n",
    "Y = iris_frame['target'].values\n",
    "features = ['sepal length (cm)', 'sepal width (cm)', 'petal length (cm)', 'petal width (cm)']\n",
    "qda = QDA()\n",
    "qda.fit(X, t)\n",
    "preds = qda.predict(X)\n",
    "\n",
    "\n",
    "X0, X1 = X[:, 0], X[:, 1]\n",
    "d = 5\n",
    "h = 0.02\n",
    "xx, yy = make_meshgrid(X0, X1,d, h = h)\n",
    "\n",
    "\n"
   ]
  },
  {
   "cell_type": "code",
   "execution_count": 13,
   "metadata": {},
   "outputs": [
    {
     "data": {
      "text/plain": [
       "Text(0, 0.5, 'petal width (cm)')"
      ]
     },
     "execution_count": 13,
     "metadata": {},
     "output_type": "execute_result"
    },
    {
     "data": {
      "image/png": "[encoded data removed]",
      "text/plain": [
       "<Figure size 640x480 with 1 Axes>"
      ]
     },
     "metadata": {},
     "output_type": "display_data"
    }
   ],
   "source": [
    "fig, ax = plt.subplots(1, 1)\n",
    "plt.subplots_adjust(wspace=0.1, hspace=0.2)\n",
    "\n",
    "\n",
    "_, Z = plot_contours(ax, qda, xx, yy,\n",
    "              cmap=plt.cm.coolwarm, alpha=0.8)\n",
    "\n",
    "clr = ''\n",
    "\n",
    "for i in range(len(Y)):\n",
    "    if Y[i] == preds[i]:\n",
    "        clr = 'b' if Y[i] == 1 else 'r'\n",
    "    else: clr = 'white'\n",
    "\n",
    "    ax.scatter(X0[i], X1[i], c=clr, s=20, edgecolors='black')\n",
    "\n",
    "ax.set_xlim(X0.min()-1, X0.max()+1)\n",
    "ax.set_ylim(X1.min()-1, X1.max()+1)\n",
    "ax.set_xlabel(features[2])\n",
    "ax.set_ylabel(features[3])"
   ]
  },
  {
   "cell_type": "code",
   "execution_count": null,
   "metadata": {},
   "outputs": [],
   "source": []
  },
  {
   "cell_type": "code",
   "execution_count": null,
   "metadata": {},
   "outputs": [],
   "source": []
  }
 ],
 "metadata": {
  "colab": {
   "provenance": []
  },
  "kernelspec": {
   "display_name": "Python 3 (ipykernel)",
   "language": "python",
   "name": "python3"
  },
  "language_info": {
   "codemirror_mode": {
    "name": "ipython",
    "version": 3
   },
   "file_extension": ".py",
   "mimetype": "text/x-python",
   "name": "python",
   "nbconvert_exporter": "python",
   "pygments_lexer": "ipython3",
   "version": "3.10.9"
  }
 },
 "nbformat": 4,
 "nbformat_minor": 1
}
